{
 "cells": [
  {
   "cell_type": "code",
   "execution_count": 1,
   "id": "0cb4678c-950e-45c3-b5c2-010465dba074",
   "metadata": {},
   "outputs": [
    {
     "name": "stdout",
     "output_type": "stream",
     "text": [
      "Robot List: ['Alpha', 'Beta', 'Gamma']\n",
      "First Robot: Alpha\n",
      "Second Robot: Beta\n",
      "Last Robot: Gamma\n",
      "Updated Robot List: ['Alpha', 'Gamma', 'Delta']\n"
     ]
    }
   ],
   "source": [
    "# Example 1 - Creating and Accessing Lists\n",
    "robots = [\"Alpha\", \"Beta\", \"Gamma\"]\n",
    "\n",
    "print(\"Robot List:\", robots)    # print the whole list\n",
    "print(\"First Robot:\", robots[0])    # index 0 = first item\n",
    "print(\"Second Robot:\", robots[1])\n",
    "print(\"Last Robot:\", robots[-1])    # -1 = Last item from the end\n",
    "\n",
    "\n",
    "robots.append(\"Delta\")    # add a new robot\n",
    "robots.remove(\"Beta\")    # remove a robot named 'Beta'\n",
    "print(\"Updated Robot List:\", robots)"
   ]
  },
  {
   "cell_type": "code",
   "execution_count": 2,
   "id": "0f9d717f-5841-46ca-9a7f-77d9ffae751e",
   "metadata": {},
   "outputs": [
    {
     "name": "stdout",
     "output_type": "stream",
     "text": [
      "First fruit: apple\n",
      "Last fruit: grapes\n",
      "Final fruit list: ['apple', 'mango', 'orange', 'grapes', 'pineapple']\n"
     ]
    }
   ],
   "source": [
    "# TODO: Your practice for lists goes here\n",
    "fruits = [\"apple\", \"banana\", \"mango\", \"orange\", \"grapes\"]\n",
    "\n",
    "print(\"First fruit:\", fruits[0])\n",
    "print(\"Last fruit:\", fruits[-1])\n",
    "\n",
    "fruits.append(\"pineapple\")  \n",
    "fruits.remove(\"banana\")     \n",
    "\n",
    "print(\"Final fruit list:\", fruits)"
   ]
  },
  {
   "cell_type": "code",
   "execution_count": 3,
   "id": "45e5b65d-1dfc-4740-bcf0-706755e9618c",
   "metadata": {},
   "outputs": [
    {
     "name": "stdout",
     "output_type": "stream",
     "text": [
      "Robot Name: Alpha\n",
      "Battery Level: 80\n",
      "Status: Active\n",
      "Updated Robot Info: {'name': 'Alpha', 'battery': 95, 'status': 'Active', 'task': 'Line Following'}\n"
     ]
    }
   ],
   "source": [
    "# Example 3 - Creating and Accessing a Dictionary\n",
    "robot = {\"name\": \"Alpha\", \"battery\": 80, \"status\": \"Active\"}\n",
    "\n",
    "print(\"Robot Name:\", robot[\"name\"])    # access by key\n",
    "print(\"Battery Level:\", robot[\"battery\"])\n",
    "print(\"Status:\", robot[\"status\"])\n",
    "\n",
    "# Example 4 - Updating a Dictionary\n",
    "robot[\"battery\"] = 95    # update a value\n",
    "robot[\"task\"] = \"Line Following\"    # add a new key-value pair\n",
    "print(\"Updated Robot Info:\", robot)"
   ]
  },
  {
   "cell_type": "code",
   "execution_count": 4,
   "id": "56c1795b-e01e-4eca-89df-857b2e698044",
   "metadata": {},
   "outputs": [
    {
     "name": "stdout",
     "output_type": "stream",
     "text": [
      "Final student info: {'name': 'Ali', 'roll_no': 7, 'score': 77, 'grade': 'B'}\n"
     ]
    }
   ],
   "source": [
    "# TODO: Your practice for dictionaries goes here\n",
    "student = {\"name\": \"Ali\", \"roll_no\": 7, \"score\": 72}\n",
    "\n",
    "# 1) increase score by 5\n",
    "student[\"score\"] += 5\n",
    "\n",
    "# 2) add a new key 'grade'\n",
    "if student[\"score\"] >= 80:\n",
    "    student[\"grade\"] = \"A\"\n",
    "elif student[\"score\"] >= 70:\n",
    "    student[\"grade\"] = \"B\"\n",
    "elif student[\"score\"] >= 60:\n",
    "    student[\"grade\"] = \"C\"\n",
    "else:\n",
    "    student[\"grade\"] = \"F\"\n",
    "\n",
    "# 3) print the final dictionary\n",
    "print(\"Final student info:\", student)"
   ]
  },
  {
   "cell_type": "code",
   "execution_count": 5,
   "id": "cc1ef737-37b9-4133-b934-ce251b95e8de",
   "metadata": {},
   "outputs": [
    {
     "name": "stdout",
     "output_type": "stream",
     "text": [
      "Activating Robot: Alpha\n",
      "Activating Robot: Gamma\n",
      "Activating Robot: Delta\n",
      "Battery remaining: 5\n",
      "Battery remaining: 4\n",
      "Battery remaining: 3\n",
      "Battery remaining: 2\n",
      "Battery remaining: 1\n",
      "Battery depleted!\n"
     ]
    }
   ],
   "source": [
    "# For Loop - iterate over a list\n",
    "robots = [\"Alpha\", \"Gamma\", \"Delta\"]\n",
    "for r in robots:\n",
    "    print(\"Activating Robot:\", r)\n",
    "\n",
    "# While Loop - run until battery becomes 0\n",
    "battery = 5\n",
    "while battery > 0:\n",
    "    print(\"Battery remaining:\", battery)\n",
    "    battery -= 1  # decrease by 1\n",
    "print(\"Battery depleted!\")"
   ]
  },
  {
   "cell_type": "code",
   "execution_count": 6,
   "id": "528121de-3d09-4c54-a5a0-176f94fbf2e4",
   "metadata": {},
   "outputs": [
    {
     "name": "stdout",
     "output_type": "stream",
     "text": [
      "Battery is Medium - Prepare for Recharge.\n"
     ]
    }
   ],
   "source": [
    "# Example - Battery-based Decision\n",
    "battery = 40\n",
    "\n",
    "if battery > 60:\n",
    "    print(\"Battery is Full - Ready for Mission!\")\n",
    "elif battery > 30:\n",
    "    print(\"Battery is Medium - Prepare for Recharge.\")\n",
    "else:\n",
    "    print(\"Battery Low - Returning to Base.\")"
   ]
  },
  {
   "cell_type": "code",
   "execution_count": 7,
   "id": "80ce8df9-1651-492a-aa8d-c4c46c028934",
   "metadata": {},
   "outputs": [
    {
     "name": "stdout",
     "output_type": "stream",
     "text": [
      "Alpha - Battery OK 🟢 ( 75 %)\n",
      "Beta - Low Battery 🔴 ( 20 %)\n",
      "Gamma - Battery OK 🟢 ( 60 %)\n"
     ]
    }
   ],
   "source": [
    "# Mini Project - Robot Battery Checker\n",
    "robots = {\"Alpha\": 75, \"Beta\": 20, \"Gamma\": 60}\n",
    "\n",
    "for name, battery in robots.items():\n",
    "    if battery > 50:\n",
    "        print(name, \"- Battery OK 🟢 (\", battery, \"%)\")\n",
    "    else:\n",
    "        print(name, \"- Low Battery 🔴 (\", battery, \"%)\")"
   ]
  },
  {
   "cell_type": "code",
   "execution_count": null,
   "id": "832cfc02-7cf5-470a-9f81-64a94147b455",
   "metadata": {},
   "outputs": [],
   "source": []
  }
 ],
 "metadata": {
  "kernelspec": {
   "display_name": "Python 3 (ipykernel)",
   "language": "python",
   "name": "python3"
  },
  "language_info": {
   "codemirror_mode": {
    "name": "ipython",
    "version": 3
   },
   "file_extension": ".py",
   "mimetype": "text/x-python",
   "name": "python",
   "nbconvert_exporter": "python",
   "pygments_lexer": "ipython3",
   "version": "3.13.5"
  }
 },
 "nbformat": 4,
 "nbformat_minor": 5
}
